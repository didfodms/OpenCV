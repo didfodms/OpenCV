{
 "cells": [
  {
   "cell_type": "code",
   "execution_count": 2,
   "metadata": {},
   "outputs": [],
   "source": [
    "import numpy as np\n",
    "import cv2"
   ]
  },
  {
   "cell_type": "code",
   "execution_count": 3,
   "metadata": {},
   "outputs": [],
   "source": [
    "#empty : 쓰레기값, zeros : 0으로 채우기, ones : 1로 채우기, full : 원하는거 채우기 (BGR색상 첨부)\n",
    "img1 = np.empty((240, 320,3), dtype = np.uint8)       # grayscale image\n",
    "img2 = np.zeros((240, 320, 3), dtype = np.uint8)\n",
    "img3 = np.ones((240, 320, 3), dtype = np.uint8)\n",
    "img4 = np.full((240, 320, 3), (0, 255, 255), dtype = np.uint8)"
   ]
  },
  {
   "cell_type": "code",
   "execution_count": 4,
   "metadata": {},
   "outputs": [],
   "source": [
    "cv2.imshow('img1', img1)\n",
    "cv2.imshow('img2', img2)\n",
    "cv2.imshow('img3', img3)\n",
    "cv2.imshow('img4', img4)\n",
    "cv2.waitKey()\n",
    "cv2.destroyAllWindows()"
   ]
  },
  {
   "cell_type": "code",
   "execution_count": 9,
   "metadata": {},
   "outputs": [],
   "source": [
    "img1 = cv2.imread('dog.bmp')\n",
    "img2 = img1 [40:120, 30:150]        #copy 방법 1 (pass by reference로 이해하기)\n",
    "img3 = img1[40:120, 30:150].copy()  #copy 방법 2 (pass by value 로 이해하기)\n",
    "\n",
    "#img1[:,:] = (255, 0, 0)\n"
   ]
  },
  {
   "cell_type": "code",
   "execution_count": 10,
   "metadata": {},
   "outputs": [],
   "source": [
    "cv2.imshow('img1', img1)\n",
    "cv2.imshow('img2', img2)\n",
    "cv2.imshow('img3', img3)\n",
    "cv2.waitKey()\n",
    "cv2.destroyAllWindows()"
   ]
  }
 ],
 "metadata": {
  "interpreter": {
   "hash": "d305a8afe8b5e71cda161a66262b04e1f141ee915c3b4503ca740da977f78f3b"
  },
  "kernelspec": {
   "display_name": "Python 3.7.7 64-bit",
   "language": "python",
   "name": "python3"
  },
  "language_info": {
   "codemirror_mode": {
    "name": "ipython",
    "version": 3
   },
   "file_extension": ".py",
   "mimetype": "text/x-python",
   "name": "python",
   "nbconvert_exporter": "python",
   "pygments_lexer": "ipython3",
   "version": "3.9.12"
  },
  "orig_nbformat": 4
 },
 "nbformat": 4,
 "nbformat_minor": 2
}
