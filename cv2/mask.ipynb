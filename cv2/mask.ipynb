{
 "cells": [
  {
   "cell_type": "code",
   "execution_count": 2,
   "metadata": {},
   "outputs": [],
   "source": [
    "import sys\n",
    "import cv2\n",
    "\n",
    "\n",
    "# 마스크 영상을 이용한 영상 합성\n",
    "src = cv2.imread('airplane.bmp', cv2.IMREAD_COLOR)\n",
    "mask = cv2.imread('mask_plane.bmp', cv2.IMREAD_GRAYSCALE)\n",
    "dst = cv2.imread('field.bmp', cv2.IMREAD_COLOR)"
   ]
  },
  {
   "cell_type": "code",
   "execution_count": 3,
   "metadata": {},
   "outputs": [],
   "source": [
    "#\n",
    "#cv2.copyTo(src, mask, dst)\n",
    "dst[mask > 0] = src[mask > 0] #mask의 0보다 큰 픽셀을 "
   ]
  },
  {
   "cell_type": "code",
   "execution_count": 4,
   "metadata": {},
   "outputs": [],
   "source": [
    "cv2.imshow('src', src)\n",
    "cv2.imshow('dst', dst)\n",
    "cv2.imshow('mask', mask)\n",
    "cv2.waitKey()\n",
    "cv2.destroyAllWindows()"
   ]
  },
  {
   "cell_type": "code",
   "execution_count": 6,
   "metadata": {},
   "outputs": [],
   "source": [
    "logo = cv2.imread('opencv-logo-white.png', cv2.IMREAD_UNCHANGED) #logo에는 masking 채널만 가져올것임.\n",
    "mask = logo[:,:,-1] #마지막 채널을 가져와 mask에 넣어라\n",
    "src = logo[:,:,0:3] #BGR값이 들어있는 것을 가져오기\n",
    "dst = cv2.imread('field.bmp', cv2.IMREAD_COLOR)"
   ]
  },
  {
   "cell_type": "code",
   "execution_count": 11,
   "metadata": {},
   "outputs": [
    {
     "data": {
      "text/plain": [
       "array([[[164, 122,  68],\n",
       "        [162, 122,  65],\n",
       "        [157, 118,  53],\n",
       "        ...,\n",
       "        [203, 184, 174],\n",
       "        [193, 167, 147],\n",
       "        [194, 165, 146]],\n",
       "\n",
       "       [[166, 124,  70],\n",
       "        [161, 120,  63],\n",
       "        [157, 120,  54],\n",
       "        ...,\n",
       "        [193, 163, 153],\n",
       "        [182, 143, 117],\n",
       "        [185, 147, 116]],\n",
       "\n",
       "       [[160, 121,  55],\n",
       "        [157, 119,  52],\n",
       "        [159, 121,  53],\n",
       "        ...,\n",
       "        [194, 162, 147],\n",
       "        [190, 155, 136],\n",
       "        [179, 144, 112]],\n",
       "\n",
       "       ...,\n",
       "\n",
       "       [[233, 213, 207],\n",
       "        [216, 199, 173],\n",
       "        [207, 194, 183],\n",
       "        ...,\n",
       "        [219, 212, 210],\n",
       "        [219, 213, 211],\n",
       "        [215, 208, 207]],\n",
       "\n",
       "       [[106, 124, 200],\n",
       "        [243, 228, 225],\n",
       "        [217, 202, 180],\n",
       "        ...,\n",
       "        [226, 220, 214],\n",
       "        [212, 205, 204],\n",
       "        [208, 201, 196]],\n",
       "\n",
       "       [[  0,  28,  54],\n",
       "        [128, 122, 203],\n",
       "        [241, 227, 227],\n",
       "        ...,\n",
       "        [219, 209, 214],\n",
       "        [225, 212, 192],\n",
       "        [205, 197, 189]]], dtype=uint8)"
      ]
     },
     "execution_count": 11,
     "metadata": {},
     "output_type": "execute_result"
    }
   ],
   "source": [
    "#cv2.copyTo(src, mask, dst)\n",
    "#위의 예제처럼 하면 안됨. (사진 사이즈가 다르다)\n",
    "#따라서, 사진을 넣을 공간을 마련해야함\n",
    "\n",
    "h, w = logo.shape[:2]\n",
    "#crop = dst[0:h, 0:w] #요 위치에다가 logo의 이미지를 삽입하겠다\n",
    "h2, w2 = dst.shape[:2]\n",
    "crop = dst[h2//2-h//2:h2//2+h//2, w2//2-w//2:w2//2+w//2] #가운데 출력하기\n",
    "\n",
    "cv2.copyTo(src, mask, crop)"
   ]
  },
  {
   "cell_type": "code",
   "execution_count": 12,
   "metadata": {},
   "outputs": [],
   "source": [
    "cv2.imshow('src', src)\n",
    "cv2.imshow('dst', dst)\n",
    "cv2.imshow('mask', mask)\n",
    "cv2.waitKey()\n",
    "cv2.destroyAllWindows()"
   ]
  }
 ],
 "metadata": {
  "interpreter": {
   "hash": "d305a8afe8b5e71cda161a66262b04e1f141ee915c3b4503ca740da977f78f3b"
  },
  "kernelspec": {
   "display_name": "Python 3.7.7 64-bit",
   "language": "python",
   "name": "python3"
  },
  "language_info": {
   "codemirror_mode": {
    "name": "ipython",
    "version": 3
   },
   "file_extension": ".py",
   "mimetype": "text/x-python",
   "name": "python",
   "nbconvert_exporter": "python",
   "pygments_lexer": "ipython3",
   "version": "3.9.12"
  },
  "orig_nbformat": 4
 },
 "nbformat": 4,
 "nbformat_minor": 2
}
