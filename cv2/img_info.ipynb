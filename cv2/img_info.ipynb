{
 "cells": [
  {
   "cell_type": "code",
   "execution_count": 1,
   "metadata": {},
   "outputs": [],
   "source": [
    "import sys\n",
    "import cv2\n",
    "\n",
    "\n",
    "# 영상 불러오기\n",
    "img1 = cv2.imread('dog.bmp', cv2.IMREAD_GRAYSCALE)\n",
    "img2 = cv2.imread('dog.bmp', cv2.IMREAD_COLOR)\n",
    "\n",
    "if img1 is None or img2 is None:\n",
    "    print('Image load failed!')\n",
    "    sys.exit()"
   ]
  },
  {
   "cell_type": "code",
   "execution_count": 7,
   "metadata": {},
   "outputs": [
    {
     "name": "stdout",
     "output_type": "stream",
     "text": [
      "<class 'numpy.ndarray'>\n",
      "(183, 275)\n",
      "(183, 275, 3)\n",
      "uint8\n",
      "uint8\n",
      "2\n",
      "3\n",
      "50325\n",
      "150975\n"
     ]
    }
   ],
   "source": [
    "print(type(img1))\n",
    "#shape\n",
    "print(img1.shape) #2차원\n",
    "print(img2.shape) #3차원\n",
    "#데이터타입\n",
    "print(img1.dtype)\n",
    "print(img1.dtype)\n",
    "#차원\n",
    "print(img1.ndim)\n",
    "print(img2.ndim)\n",
    "#사이즈 (3배정도의 차이)\n",
    "print(img1.size)\n",
    "print(img2.size)"
   ]
  },
  {
   "cell_type": "code",
   "execution_count": 9,
   "metadata": {},
   "outputs": [
    {
     "name": "stdout",
     "output_type": "stream",
     "text": [
      "49\n",
      "[63 47 48]\n"
     ]
    }
   ],
   "source": [
    "#img1의 (y, x)위치의 픽셀값 출력 (grayScale)\n",
    "x = 20\n",
    "y = 10\n",
    "p1 = img1[y, x]\n",
    "print(p1)\n",
    "\n",
    "#img2의 (y, x)위치의 픽셀 값 출력 (color)\n",
    "p2 = img2[y, x]\n",
    "print(p2)\n",
    "#BGR값이 나온다 "
   ]
  },
  {
   "cell_type": "code",
   "execution_count": 11,
   "metadata": {},
   "outputs": [],
   "source": [
    "img1[y, x] = 0 #검은색\n",
    "img2[y, x] = (0, 0, 255) #빨간색"
   ]
  },
  {
   "cell_type": "code",
   "execution_count": 13,
   "metadata": {},
   "outputs": [],
   "source": [
    "#for문으로 색 채우기 방법 \n",
    "h, w = img2.shape[:2]\n",
    "for y in range(h):\n",
    "    for x in range(w):\n",
    "        img1[y, x] = 255\n",
    "        img2[y, x] = (0, 255, 255)"
   ]
  },
  {
   "cell_type": "code",
   "execution_count": null,
   "metadata": {},
   "outputs": [],
   "source": [
    "#for문보다 좋은 색 채우기 방법\n",
    "img1[:,:] = 255\n",
    "img2[:,:] = (0, 255, 255)"
   ]
  },
  {
   "cell_type": "code",
   "execution_count": 14,
   "metadata": {},
   "outputs": [],
   "source": [
    "cv2.imshow('img1', img1)\n",
    "cv2.imshow('img2', img2)\n",
    "cv2.waitKey()\n",
    "\n",
    "cv2.destroyAllWindows()"
   ]
  }
 ],
 "metadata": {
  "interpreter": {
   "hash": "d305a8afe8b5e71cda161a66262b04e1f141ee915c3b4503ca740da977f78f3b"
  },
  "kernelspec": {
   "display_name": "Python 3.7.7 64-bit",
   "language": "python",
   "name": "python3"
  },
  "language_info": {
   "codemirror_mode": {
    "name": "ipython",
    "version": 3
   },
   "file_extension": ".py",
   "mimetype": "text/x-python",
   "name": "python",
   "nbconvert_exporter": "python",
   "pygments_lexer": "ipython3",
   "version": "3.9.12"
  },
  "orig_nbformat": 4
 },
 "nbformat": 4,
 "nbformat_minor": 2
}
