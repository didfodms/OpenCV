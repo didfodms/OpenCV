{
 "cells": [
  {
   "cell_type": "code",
   "execution_count": 1,
   "metadata": {},
   "outputs": [],
   "source": [
    "import numpy as np\n",
    "import cv2\n"
   ]
  },
  {
   "cell_type": "code",
   "execution_count": 2,
   "metadata": {},
   "outputs": [],
   "source": [
    "img = np.full((400, 400, 3), 255, np.uint8) #색상값 포함해서 이미지 저장\n"
   ]
  },
  {
   "cell_type": "code",
   "execution_count": 23,
   "metadata": {},
   "outputs": [
    {
     "data": {
      "text/plain": [
       "array([[[255, 255, 255],\n",
       "        [255, 255, 255],\n",
       "        [255, 255, 255],\n",
       "        ...,\n",
       "        [255, 255, 255],\n",
       "        [255, 255, 255],\n",
       "        [255, 255, 255]],\n",
       "\n",
       "       [[255, 255, 255],\n",
       "        [255, 255, 255],\n",
       "        [255, 255, 255],\n",
       "        ...,\n",
       "        [255, 255, 255],\n",
       "        [255, 255, 255],\n",
       "        [255, 255, 255]],\n",
       "\n",
       "       [[255, 255, 255],\n",
       "        [255, 255, 255],\n",
       "        [255, 255, 255],\n",
       "        ...,\n",
       "        [255, 255, 255],\n",
       "        [255, 255, 255],\n",
       "        [255, 255, 255]],\n",
       "\n",
       "       ...,\n",
       "\n",
       "       [[255, 255, 255],\n",
       "        [255, 255, 255],\n",
       "        [255, 255, 255],\n",
       "        ...,\n",
       "        [255, 255, 255],\n",
       "        [255, 255, 255],\n",
       "        [255, 255, 255]],\n",
       "\n",
       "       [[255, 255, 255],\n",
       "        [255, 255, 255],\n",
       "        [255, 255, 255],\n",
       "        ...,\n",
       "        [255, 255, 255],\n",
       "        [255, 255, 255],\n",
       "        [255, 255, 255]],\n",
       "\n",
       "       [[255, 255, 255],\n",
       "        [255, 255, 255],\n",
       "        [255, 255, 255],\n",
       "        ...,\n",
       "        [255, 255, 255],\n",
       "        [255, 255, 255],\n",
       "        [255, 255, 255]]], dtype=uint8)"
      ]
     },
     "execution_count": 23,
     "metadata": {},
     "output_type": "execute_result"
    }
   ],
   "source": [
    "#line 메소드\n",
    "#첫번째 인자 : 그림판, 두번째 : 시작점, 세번째 : 끝점, 네번째 : 색상, 다섯번째 : 두께 (default : 1)\n",
    "cv2.line(img, (50, 50), (200, 50), (0, 0, 255), 5)\n",
    "cv2.line(img, (50, 60), (150, 160), (0, 0, 128))\n",
    "\n",
    "#rectangle 메소드\n",
    "#첫번째 : 그림판, 두번째 : (x, y, w, h), 세번째 : 색상, 네번째 : 두께\n",
    "cv2.rectangle(img, (50, 200, 150, 100), (0, 25, 25), 5)\n",
    "#첫번째 : 그림판, 두번째 : 왼쪽위 시작점, 세번째 : 오른쪽 아래 끝점, 네번째 : 두께 (-1로 하면 색칠함)\n",
    "cv2.rectangle(img, (70, 220), (180, 280), (0, 255, 0), -1)\n",
    "#circle 메소드\n",
    "#첫번째 : 그림판, 두번째 : 원의 중심, 세번째 : 반지름, ...\n",
    "cv2.circle(img, (300, 100), 30, (255, 255, 0), -1, cv2.LINE_AA) #LINE_AA는 더 깔끔하게 나옴 (직선은 상관x 근데 원같은건 LINE_AA쓰는게 더 깔끔)\n",
    "cv2.circle(img, (300, 100), 60, (255, 0, 0), 3, cv2.LINE_8)     #LINE_8은 좀 비트맵처럼 나옴 계단식처럼.. (default값은 LINE_8)\n",
    "#다각형 만들기\n",
    "#np.array를 사용해서 다각형 지점 넣기 (네 점의 위치를 2차원배열로 만들어줌)\n",
    "#첫번째 : 그림판, 두번째 : 위치(리스트 형태로 넘겨줘야함), 세번째 : 폐쇄형 도형인가?, 네번째 : BGR, 다섯번째 : 두께\n",
    "pts = np.array([[250, 200], [300, 200], [350, 300], [250, 300]])\n",
    "cv2.polylines(img, [pts], True, (255, 0, 0), 2)\n",
    "\n",
    "#텍스트 넣기\n",
    "#첫번째 : 그림판, 두번째 : 텍스트 내용, 세번째 : 위치, 네번째 : 폰트, 다섯번째 : 폰트 크기, 여섯번째 : BGR값, 일곱번째 : 두께, 여덟번째 : cv2.LINE... (cv2.LINE_AA를 사용하면 더 깔끔한 폰트가 출력됨)\n",
    "text = 'hello? opencv' + cv2.__version__\n",
    "cv2.putText(img, text, (50, 350), cv2.FONT_ITALIC, 0.8, (0, 0, 255), 1, cv2.LINE_AA)"
   ]
  },
  {
   "cell_type": "code",
   "execution_count": 24,
   "metadata": {},
   "outputs": [],
   "source": [
    "cv2.imshow(\"img\", img)\n",
    "cv2.waitKey()\n",
    "cv2.destroyAllWindows()\n"
   ]
  },
  {
   "cell_type": "code",
   "execution_count": null,
   "metadata": {},
   "outputs": [],
   "source": []
  }
 ],
 "metadata": {
  "interpreter": {
   "hash": "d305a8afe8b5e71cda161a66262b04e1f141ee915c3b4503ca740da977f78f3b"
  },
  "kernelspec": {
   "display_name": "Python 3.7.7 64-bit",
   "language": "python",
   "name": "python3"
  },
  "language_info": {
   "codemirror_mode": {
    "name": "ipython",
    "version": 3
   },
   "file_extension": ".py",
   "mimetype": "text/x-python",
   "name": "python",
   "nbconvert_exporter": "python",
   "pygments_lexer": "ipython3",
   "version": "3.9.12"
  },
  "orig_nbformat": 4
 },
 "nbformat": 4,
 "nbformat_minor": 2
}
