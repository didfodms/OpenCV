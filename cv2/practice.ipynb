{
 "cells": [
  {
   "cell_type": "code",
   "execution_count": 3,
   "metadata": {},
   "outputs": [],
   "source": [
    "import cv2\n",
    "\n",
    "img1 = cv2.imread('dog.bmp', cv2.IMREAD_GRAYSCALE)\n",
    "img2 = cv2.imread('dog.bmp', cv2.IMREAD_COLOR)\n",
    "\n",
    "cv2.imshow('img1', img1)"
   ]
  }
 ],
 "metadata": {
  "interpreter": {
   "hash": "c5d771d269e2f9bd81757333ceba6e21e961ae4aceb38078fc200aed7958d128"
  },
  "kernelspec": {
   "display_name": "Python 3.9.12 64-bit (windows store)",
   "language": "python",
   "name": "python3"
  },
  "language_info": {
   "codemirror_mode": {
    "name": "ipython",
    "version": 3
   },
   "file_extension": ".py",
   "mimetype": "text/x-python",
   "name": "python",
   "nbconvert_exporter": "python",
   "pygments_lexer": "ipython3",
   "version": "3.9.12"
  },
  "orig_nbformat": 4
 },
 "nbformat": 4,
 "nbformat_minor": 2
}
