{
 "cells": [
  {
   "cell_type": "code",
   "execution_count": 1,
   "metadata": {},
   "outputs": [],
   "source": [
    "import sys\n",
    "import numpy as np\n",
    "import cv2\n",
    "\n",
    "\n",
    "# 기준 영상 불러오기\n",
    "src = cv2.imread('korea.jpg', cv2.IMREAD_GRAYSCALE)\n",
    "\n",
    "if src is None:\n",
    "    print('Image load failed!')\n",
    "    sys.exit()"
   ]
  },
  {
   "cell_type": "code",
   "execution_count": 2,
   "metadata": {},
   "outputs": [],
   "source": [
    "# 카메라 장치 열기\n",
    "cap1 = cv2.VideoCapture(0)\n",
    "\n",
    "if not cap1.isOpened():\n",
    "    print('Camera open failed!')\n",
    "    sys.exit()\n",
    "\n",
    "# 필요할 경우 카메라 해상도 변경\n",
    "#cap1.set(cv2.CAP_PROP_FRAME_WIDTH, 800)\n",
    "#cap1.set(cv2.CAP_PROP_FRAME_HEIGHT, 600)"
   ]
  },
  {
   "cell_type": "code",
   "execution_count": 3,
   "metadata": {},
   "outputs": [],
   "source": [
    "# 카메라 프레임 화면에 출력할 동영상 파일 열기\n",
    "cap2 = cv2.VideoCapture('korea.mp4')\n",
    "\n",
    "if not cap2.isOpened():\n",
    "    print('Video load failed!')\n",
    "    sys.exit()"
   ]
  },
  {
   "cell_type": "code",
   "execution_count": 4,
   "metadata": {},
   "outputs": [],
   "source": [
    "# AKAZE 특징점 알고리즘 객체 생성\n",
    "detector = cv2.AKAZE_create()"
   ]
  },
  {
   "cell_type": "code",
   "execution_count": 5,
   "metadata": {},
   "outputs": [],
   "source": [
    "# 기준 영상에서 특징점 검출 및 기술자 생성\n",
    "kp1, desc1 = detector.detectAndCompute(src, None)"
   ]
  },
  {
   "cell_type": "code",
   "execution_count": 6,
   "metadata": {},
   "outputs": [],
   "source": [
    "# 해밍 거리를 사용하는 매칭 객체 생성\n",
    "matcher = cv2.BFMatcher_create(cv2.NORM_HAMMING)"
   ]
  },
  {
   "cell_type": "code",
   "execution_count": 7,
   "metadata": {},
   "outputs": [],
   "source": [
    "while True:\n",
    "    ret1, frame1 = cap1.read()\n",
    "\n",
    "    if not ret1:\n",
    "        break\n",
    "\n",
    "    # 매 프레임마다 특징점 검출 및 기술자 생성\n",
    "    gray = cv2.cvtColor(frame1, cv2.COLOR_BGR2GRAY)\n",
    "    kp2, desc2 = detector.detectAndCompute(gray, None)\n",
    "\n",
    "    # 특징점이 100개 이상 검출될 경우 매칭 수행\n",
    "    if len(kp2) > 100:\n",
    "        matches = matcher.match(desc1, desc2)\n",
    "\n",
    "        # 좋은 매칭 선별\n",
    "        matches = sorted(matches, key=lambda x: x.distance)\n",
    "        good_matches = matches[:80]\n",
    "\n",
    "        pts1 = np.array([kp1[m.queryIdx].pt for m in good_matches]).reshape(-1, 1, 2).astype(np.float32)\n",
    "        pts2 = np.array([kp2[m.trainIdx].pt for m in good_matches]).reshape(-1, 1, 2).astype(np.float32)\n",
    "\n",
    "        # 호모그래피 계산\n",
    "        H, inliers = cv2.findHomography(pts1, pts2, cv2.RANSAC)\n",
    "\n",
    "        inlier_cnt = cv2.countNonZero(inliers)\n",
    "\n",
    "        # RANSAC 방법에서 정상적으로 매칭된 것의 개수가 20개 이상이면\n",
    "        if inlier_cnt > 20:\n",
    "            ret2, frame2 = cap2.read()\n",
    "\n",
    "            if not ret2:\n",
    "                break\n",
    "\n",
    "            h, w = frame1.shape[:2]\n",
    "\n",
    "            # 비디오 프레임을 투시 변환\n",
    "            video_warp = cv2.warpPerspective(frame2, H, (w, h))\n",
    "\n",
    "            white = np.full(frame2.shape[:2], 255, np.uint8)\n",
    "            white = cv2.warpPerspective(white, H, (w, h))\n",
    "\n",
    "            # 비디오 프레임을 카메라 프레임에 합성\n",
    "            cv2.copyTo(video_warp, white, frame1)\n",
    "\n",
    "    cv2.imshow('frame', frame1)\n",
    "    if cv2.waitKey(1) == 27:\n",
    "        break\n",
    "    \n",
    "cap1.release()\n",
    "cap2.release()\n",
    "cv2.destroyAllWindows()"
   ]
  }
 ],
 "metadata": {
  "interpreter": {
   "hash": "d818019e9fc9fae7cdf8a445f715940dfee061aeca3da48d1e5a5f322c2f3bbd"
  },
  "kernelspec": {
   "display_name": "Python 3.9.12 64-bit (windows store)",
   "language": "python",
   "name": "python3"
  },
  "language_info": {
   "codemirror_mode": {
    "name": "ipython",
    "version": 3
   },
   "file_extension": ".py",
   "mimetype": "text/x-python",
   "name": "python",
   "nbconvert_exporter": "python",
   "pygments_lexer": "ipython3",
   "version": "3.9.13"
  },
  "orig_nbformat": 4
 },
 "nbformat": 4,
 "nbformat_minor": 2
}
