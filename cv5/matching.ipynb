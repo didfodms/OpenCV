{
 "cells": [
  {
   "cell_type": "code",
   "execution_count": 1,
   "metadata": {},
   "outputs": [],
   "source": [
    "import sys\n",
    "import numpy as np\n",
    "import cv2\n",
    "\n",
    "\n",
    "# 영상 불러오기\n",
    "src1 = cv2.imread('graf1.png', cv2.IMREAD_GRAYSCALE)\n",
    "src2 = cv2.imread('graf3.png', cv2.IMREAD_GRAYSCALE)\n",
    "\n",
    "if src1 is None or src2 is None:\n",
    "    print('Image load failed!')\n",
    "    sys.exit()"
   ]
  },
  {
   "cell_type": "code",
   "execution_count": 2,
   "metadata": {},
   "outputs": [],
   "source": [
    "# 특징점 알고리즘 객체 생성 (KAZE, AKAZE, ORB 등)\n",
    "feature = cv2.KAZE_create() \n",
    "#feature = cv2.AKAZE_create() \n",
    "#feature = cv2.ORB_create() "
   ]
  },
  {
   "cell_type": "code",
   "execution_count": 3,
   "metadata": {},
   "outputs": [],
   "source": [
    "# 특징점 검출 및 기술자 계산\n",
    "kp1, desc1 = feature.detectAndCompute(src1, None)\n",
    "kp2, desc2 = feature.detectAndCompute(src2, None)"
   ]
  },
  {
   "cell_type": "code",
   "execution_count": 5,
   "metadata": {},
   "outputs": [],
   "source": [
    "# 특징점 매칭\n",
    "matcher = cv2.BFMatcher_create()\n",
    "matches = matcher.match(desc1, desc2)"
   ]
  },
  {
   "cell_type": "code",
   "execution_count": 8,
   "metadata": {},
   "outputs": [],
   "source": [
    "# 좋은 매칭 결과 선별\n",
    "mathces = sorted(matches, key=lambda x: x.distance)\n",
    "good_matches = matches[:80]"
   ]
  },
  {
   "cell_type": "code",
   "execution_count": 6,
   "metadata": {},
   "outputs": [],
   "source": [
    "# 특징점 매칭 결과 영상 생성\n",
    "#dst = cv2.drawMatches(src1, kp1, src2, kp2, matches, None) #img1, img1 특징 정보, img2, img2 특징 정보, 매칭 정보, 색상\n",
    "dst = cv2.drawMatches(src1, kp1, src2, kp2, good_matches, None) #img1, img1 특징 정보, img2, img2 특징 정보, 매칭 정보, 색상"
   ]
  },
  {
   "cell_type": "code",
   "execution_count": 7,
   "metadata": {},
   "outputs": [],
   "source": [
    "cv2.imshow('dst', dst)\n",
    "cv2.waitKey()\n",
    "cv2.destroyAllWindows()"
   ]
  }
 ],
 "metadata": {
  "interpreter": {
   "hash": "d818019e9fc9fae7cdf8a445f715940dfee061aeca3da48d1e5a5f322c2f3bbd"
  },
  "kernelspec": {
   "display_name": "Python 3.9.12 64-bit (windows store)",
   "language": "python",
   "name": "python3"
  },
  "language_info": {
   "codemirror_mode": {
    "name": "ipython",
    "version": 3
   },
   "file_extension": ".py",
   "mimetype": "text/x-python",
   "name": "python",
   "nbconvert_exporter": "python",
   "pygments_lexer": "ipython3",
   "version": "3.9.13"
  },
  "orig_nbformat": 4
 },
 "nbformat": 4,
 "nbformat_minor": 2
}
