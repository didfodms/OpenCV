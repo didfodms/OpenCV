{
 "cells": [
  {
   "cell_type": "code",
   "execution_count": 9,
   "metadata": {},
   "outputs": [],
   "source": [
    "import sys\n",
    "import numpy as np\n",
    "import cv2\n",
    "\n",
    "\n",
    "src = cv2.imread('building.jpg', cv2.IMREAD_GRAYSCALE)\n",
    "\n",
    "if src is None:\n",
    "    print('Image load failed!')\n",
    "    sys.exit()"
   ]
  },
  {
   "cell_type": "code",
   "execution_count": 11,
   "metadata": {},
   "outputs": [],
   "source": [
    "# GFTT\n",
    "\n",
    "corners = cv2.goodFeaturesToTrack(src, 400, 0.01, 10)\n",
    "\n",
    "dst1 = cv2.cvtColor(src, cv2.COLOR_GRAY2BGR)\n",
    "\n",
    "if corners is not None:\n",
    "    for i in range(corners.shape[0]):\n",
    "        pt = (int(corners[i, 0, 0]), int(corners[i, 0, 1]))\n",
    "        cv2.circle(dst1, pt, 1, (0, 0, 255), 2)"
   ]
  },
  {
   "cell_type": "code",
   "execution_count": 12,
   "metadata": {},
   "outputs": [],
   "source": [
    "# FAST\n",
    "\n",
    "fast = cv2.FastFeatureDetector_create(60)\n",
    "keypoints = fast.detect(src)\n",
    "\n",
    "dst2 = cv2.cvtColor(src, cv2.COLOR_GRAY2BGR)\n",
    "\n",
    "for kp in keypoints:\n",
    "    pt = (int(kp.pt[0]), int(kp.pt[1]))\n",
    "    cv2.circle(dst2, pt, 1, (0, 0, 255), 2)"
   ]
  },
  {
   "cell_type": "code",
   "execution_count": 13,
   "metadata": {},
   "outputs": [],
   "source": [
    "cv2.imshow('src', src)\n",
    "cv2.imshow('dst1', dst1)\n",
    "cv2.imshow('dst2', dst2)\n",
    "cv2.waitKey()\n",
    "\n",
    "cv2.destroyAllWindows()"
   ]
  }
 ],
 "metadata": {
  "interpreter": {
   "hash": "755332050e58d4d507d287117008e292404769ec302d070436f9dd1daeb9cf41"
  },
  "kernelspec": {
   "display_name": "Python 3.7.7 64-bit",
   "language": "python",
   "name": "python3"
  },
  "language_info": {
   "codemirror_mode": {
    "name": "ipython",
    "version": 3
   },
   "file_extension": ".py",
   "mimetype": "text/x-python",
   "name": "python",
   "nbconvert_exporter": "python",
   "pygments_lexer": "ipython3",
   "version": "3.7.7"
  },
  "orig_nbformat": 4
 },
 "nbformat": 4,
 "nbformat_minor": 2
}
