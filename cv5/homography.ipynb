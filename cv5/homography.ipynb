{
 "cells": [
  {
   "cell_type": "code",
   "execution_count": 1,
   "metadata": {},
   "outputs": [],
   "source": [
    "import sys\n",
    "import numpy as np\n",
    "import cv2"
   ]
  },
  {
   "cell_type": "code",
   "execution_count": 2,
   "metadata": {},
   "outputs": [],
   "source": [
    "# 영상 불러오기\n",
    "src1 = cv2.imread('box.png', cv2.IMREAD_GRAYSCALE)\n",
    "src2 = cv2.imread('box_in_scene.png', cv2.IMREAD_GRAYSCALE)\n",
    "\n",
    "if src1 is None or src2 is None:\n",
    "    print('Image load failed!')\n",
    "    sys.exit()"
   ]
  },
  {
   "cell_type": "code",
   "execution_count": 3,
   "metadata": {},
   "outputs": [],
   "source": [
    "# 특징점 알고리즘 객체 생성 (KAZE, AKAZE, ORB 등)\n",
    "feature = cv2.KAZE_create()\n",
    "#feature = cv2.AKAZE_create()\n",
    "#feature = cv2.ORB_create()"
   ]
  },
  {
   "cell_type": "code",
   "execution_count": 4,
   "metadata": {},
   "outputs": [],
   "source": [
    "# 특징점 검출 및 기술자 계산\n",
    "kp1, desc1 = feature.detectAndCompute(src1, None)\n",
    "kp2, desc2 = feature.detectAndCompute(src2, None)"
   ]
  },
  {
   "cell_type": "code",
   "execution_count": 5,
   "metadata": {},
   "outputs": [],
   "source": [
    "# 특징점 매칭\n",
    "matcher = cv2.BFMatcher_create()\n",
    "#matcher = cv2.BFMatcher_create(cv2.NORM_HAMMING)\n",
    "matches = matcher.match(desc1, desc2)"
   ]
  },
  {
   "cell_type": "code",
   "execution_count": 6,
   "metadata": {},
   "outputs": [
    {
     "name": "stdout",
     "output_type": "stream",
     "text": [
      "# of kp1: 523\n",
      "# of kp2: 1021\n",
      "# of matches: 523\n",
      "# of good_matches: 80\n"
     ]
    }
   ],
   "source": [
    "# 좋은 매칭 결과 선별\n",
    "matches = sorted(matches, key=lambda x: x.distance)\n",
    "good_matches = matches[:80]\n",
    "\n",
    "print('# of kp1:', len(kp1))\n",
    "print('# of kp2:', len(kp2))\n",
    "print('# of matches:', len(matches))\n",
    "print('# of good_matches:', len(good_matches))"
   ]
  },
  {
   "cell_type": "code",
   "execution_count": 7,
   "metadata": {},
   "outputs": [],
   "source": [
    "# 호모그래피 계산\n",
    "pts1 = np.array([kp1[m.queryIdx].pt for m in good_matches]\n",
    "                ).reshape(-1, 1, 2).astype(np.float32)\n",
    "pts2 = np.array([kp2[m.trainIdx].pt for m in good_matches]\n",
    "                ).reshape(-1, 1, 2).astype(np.float32)\n",
    "\n",
    "H, _ = cv2.findHomography(pts1, pts2, cv2.RANSAC)"
   ]
  },
  {
   "cell_type": "code",
   "execution_count": 8,
   "metadata": {},
   "outputs": [],
   "source": [
    "# 호모그래피를 이용하여 기준 영상 영역 표시\n",
    "dst = cv2.drawMatches(src1, kp1, src2, kp2, good_matches, None,\n",
    "                      flags=cv2.DrawMatchesFlags_NOT_DRAW_SINGLE_POINTS)\n",
    "\n",
    "(h, w) = src1.shape[:2]\n",
    "corners1 = np.array([[0, 0], [0, h-1], [w-1, h-1], [w-1, 0]]\n",
    "                    ).reshape(-1, 1, 2).astype(np.float32)\n",
    "corners2 = cv2.perspectiveTransform(corners1, H)\n",
    "corners2 = corners2 + np.float32([w, 0])\n",
    "\n",
    "cv2.polylines(dst, [np.int32(corners2)], True, (0, 255, 0), 2, cv2.LINE_AA)\n",
    "\n",
    "cv2.imshow('dst', dst)\n",
    "cv2.waitKey()\n",
    "cv2.destroyAllWindows()"
   ]
  }
 ],
 "metadata": {
  "interpreter": {
   "hash": "d818019e9fc9fae7cdf8a445f715940dfee061aeca3da48d1e5a5f322c2f3bbd"
  },
  "kernelspec": {
   "display_name": "Python 3.9.12 64-bit (windows store)",
   "language": "python",
   "name": "python3"
  },
  "language_info": {
   "codemirror_mode": {
    "name": "ipython",
    "version": 3
   },
   "file_extension": ".py",
   "mimetype": "text/x-python",
   "name": "python",
   "nbconvert_exporter": "python",
   "pygments_lexer": "ipython3",
   "version": "3.9.13"
  },
  "orig_nbformat": 4
 },
 "nbformat": 4,
 "nbformat_minor": 2
}
