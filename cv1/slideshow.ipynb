{
 "cells": [
  {
   "cell_type": "code",
   "execution_count": 2,
   "metadata": {},
   "outputs": [],
   "source": [
    "import glob #한 폴더 내에서 같은 확장자인 것을 한꺼번에 가져옴\n",
    "import cv2"
   ]
  },
  {
   "cell_type": "code",
   "execution_count": 3,
   "metadata": {},
   "outputs": [],
   "source": [
    "img_files = glob.glob('.\\\\images\\\\*.bmp') #리스트 형태로 images폴더 내의 모든 bmp파일이 저장됨"
   ]
  },
  {
   "cell_type": "code",
   "execution_count": 4,
   "metadata": {},
   "outputs": [
    {
     "name": "stdout",
     "output_type": "stream",
     "text": [
      ".\\images\\bird.bmp\n",
      ".\\images\\duck.bmp\n",
      ".\\images\\flower.bmp\n",
      ".\\images\\images.bmp\n",
      ".\\images\\orange.bmp\n"
     ]
    }
   ],
   "source": [
    "for i in img_files:\n",
    "    print(i)"
   ]
  },
  {
   "cell_type": "code",
   "execution_count": 5,
   "metadata": {},
   "outputs": [],
   "source": [
    "cv2.namedWindow('image', cv2.WINDOW_NORMAL) #'image'인자만 줄수도 있음 -> 창 크기가 고정됨, cv2.WINDOW_NORMAL -> 창 크기 변화 가능 \n",
    "\n",
    "length = len(img_files)\n",
    "idx = 0\n",
    "while True :\n",
    "    img = cv2.imread(img_files[idx])\n",
    "    cv2.imshow('image', img)\n",
    "    #ESC의 ASCII코드 = 27\n",
    "    if cv2.waitKey(2000) == 27 : #1000ms(1초) 지나가면 다음으로 넘어감, 어떠한 키를 누르면 그 키에 해당하는 ASCII코드 반환, 아무것도 누르지 않았다면 -1반환\n",
    "        break\n",
    "    \n",
    "    idx += 1\n",
    "    if idx >= length :\n",
    "        idx = 0\n",
    "    #idx %= len\n",
    "\n",
    "cv2.destroyAllWindows()"
   ]
  },
  {
   "cell_type": "code",
   "execution_count": null,
   "metadata": {},
   "outputs": [],
   "source": []
  }
 ],
 "metadata": {
  "interpreter": {
   "hash": "c5d771d269e2f9bd81757333ceba6e21e961ae4aceb38078fc200aed7958d128"
  },
  "kernelspec": {
   "display_name": "Python 3.9.12 64-bit (windows store)",
   "language": "python",
   "name": "python3"
  },
  "language_info": {
   "codemirror_mode": {
    "name": "ipython",
    "version": 3
   },
   "file_extension": ".py",
   "mimetype": "text/x-python",
   "name": "python",
   "nbconvert_exporter": "python",
   "pygments_lexer": "ipython3",
   "version": "3.9.12"
  },
  "orig_nbformat": 4
 },
 "nbformat": 4,
 "nbformat_minor": 2
}
