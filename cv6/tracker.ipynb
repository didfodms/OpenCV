{
 "cells": [
  {
   "cell_type": "code",
   "execution_count": 5,
   "metadata": {},
   "outputs": [],
   "source": [
    "import sys\n",
    "import numpy as np\n",
    "import cv2\n",
    "\n",
    "\n",
    "# 동영상 열기\n",
    "cap = cv2.VideoCapture('tracking1.mp4')\n",
    "\n",
    "if not cap.isOpened():\n",
    "    print('Video open failed!')\n",
    "    sys.exit()\n",
    "\n"
   ]
  },
  {
   "cell_type": "code",
   "execution_count": 6,
   "metadata": {},
   "outputs": [],
   "source": [
    "# 트래커 객체 생성\n",
    "\n",
    "# Kernelized Correlation Filters\n",
    "#tracker = cv2.TrackerKCF_create()\n",
    "\n",
    "# Discriminative Correlation Filter with Channel and Spatial Reliability\n",
    "tracker = cv2.TrackerCSRT_create()"
   ]
  },
  {
   "cell_type": "code",
   "execution_count": 7,
   "metadata": {},
   "outputs": [],
   "source": [
    "# 첫 번째 프레임에서 추적 ROI 설정\n",
    "ret, frame = cap.read()\n",
    "\n",
    "if not ret:\n",
    "    print('Frame read failed!')\n",
    "    sys.exit()\n",
    "\n",
    "rc = cv2.selectROI('frame', frame)\n",
    "tracker.init(frame, rc)"
   ]
  },
  {
   "cell_type": "code",
   "execution_count": 8,
   "metadata": {},
   "outputs": [],
   "source": [
    "# 매 프레임 처리\n",
    "while True:\n",
    "    ret, frame = cap.read()\n",
    "\n",
    "    if not ret:\n",
    "        print('Frame read failed!')\n",
    "        sys.exit()\n",
    "\n",
    "    # 추적 & ROI 사각형 업데이트\n",
    "    ret, rc = tracker.update(frame)\n",
    "    rc = tuple([int(_) for _ in rc])\n",
    "    cv2.rectangle(frame, rc, (0, 0, 255), 2)\n",
    "\n",
    "    cv2.imshow('frame', frame)\n",
    "    if cv2.waitKey(20) == 27:\n",
    "        break\n",
    "\n",
    "cv2.destroyAllWindows()"
   ]
  },
  {
   "cell_type": "code",
   "execution_count": null,
   "metadata": {},
   "outputs": [],
   "source": []
  }
 ],
 "metadata": {
  "interpreter": {
   "hash": "d818019e9fc9fae7cdf8a445f715940dfee061aeca3da48d1e5a5f322c2f3bbd"
  },
  "kernelspec": {
   "display_name": "Python 3.9.13 64-bit (windows store)",
   "language": "python",
   "name": "python3"
  },
  "language_info": {
   "codemirror_mode": {
    "name": "ipython",
    "version": 3
   },
   "file_extension": ".py",
   "mimetype": "text/x-python",
   "name": "python",
   "nbconvert_exporter": "python",
   "pygments_lexer": "ipython3",
   "version": "3.9.13"
  },
  "orig_nbformat": 4
 },
 "nbformat": 4,
 "nbformat_minor": 2
}
