{
 "cells": [
  {
   "cell_type": "code",
   "execution_count": 1,
   "metadata": {},
   "outputs": [],
   "source": [
    "import sys\n",
    "import numpy as np\n",
    "import cv2\n",
    "\n",
    "\n",
    "# 카메라 장치 열기\n",
    "cap = cv2.VideoCapture(0)\n",
    "\n",
    "if not cap.isOpened():\n",
    "    print('Camera open failed!')\n",
    "    sys.exit()\n",
    "\n",
    "# 설정 변수 정의\n",
    "MAX_COUNT = 50\n",
    "needToInit = False\n",
    "colors = [(255, 0, 0), (0, 255, 0), (0, 0, 255), (255, 255, 0),\n",
    "          (0, 255, 255), (255, 0, 255), (128, 255, 0), (0, 128, 128)]\n",
    "\n",
    "ptSrc = None\n",
    "ptDst = None\n",
    "\n",
    "# 카메라 매 프레임 처리\n",
    "while True:\n",
    "    ret, frame = cap.read()\n",
    "\n",
    "    if not ret:\n",
    "        break\n",
    "\n",
    "    img = frame.copy()\n",
    "    gray = cv2.cvtColor(img, cv2.COLOR_BGR2GRAY)\n",
    "\n",
    "    if needToInit:\n",
    "        ptSrc = cv2.goodFeaturesToTrack(gray, 50, 0.01, 10)\n",
    "        needToInit = False\n",
    "\n",
    "    if ptSrc is not None:\n",
    "        if prev is None:\n",
    "            prev = gray.copy()\n",
    "\n",
    "        ptDst, status, _ = cv2.calcOpticalFlowPyrLK(prev, gray, ptSrc, None)\n",
    "\n",
    "        for i in range(ptDst.shape[0]):\n",
    "            if status[i, 0] == 0:\n",
    "                continue\n",
    "\n",
    "            cv2.circle(img, tuple(ptDst[i, 0].astype(int)), 4, colors[i % 8], 2, cv2.LINE_AA)\n",
    "\n",
    "    cv2.imshow('frame', img)\n",
    "    key = cv2.waitKey(1)\n",
    "\n",
    "    if key == 27:\n",
    "        break\n",
    "    elif key == ord('r'):\n",
    "        needToInit = not needToInit\n",
    "    elif key == ord('c'):\n",
    "        ptSrc = None\n",
    "        ptDst = None\n",
    "\n",
    "    ptDst, ptSrc = ptSrc, ptDst\n",
    "    prev = gray\n",
    "\n",
    "cv2.destroyAllWindows()"
   ]
  }
 ],
 "metadata": {
  "interpreter": {
   "hash": "d818019e9fc9fae7cdf8a445f715940dfee061aeca3da48d1e5a5f322c2f3bbd"
  },
  "kernelspec": {
   "display_name": "Python 3.9.13 64-bit (windows store)",
   "language": "python",
   "name": "python3"
  },
  "language_info": {
   "codemirror_mode": {
    "name": "ipython",
    "version": 3
   },
   "file_extension": ".py",
   "mimetype": "text/x-python",
   "name": "python",
   "nbconvert_exporter": "python",
   "pygments_lexer": "ipython3",
   "version": "3.9.13"
  },
  "orig_nbformat": 4
 },
 "nbformat": 4,
 "nbformat_minor": 2
}
