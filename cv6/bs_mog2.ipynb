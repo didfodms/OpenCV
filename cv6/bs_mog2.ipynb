{
 "cells": [
  {
   "cell_type": "code",
   "execution_count": 10,
   "metadata": {},
   "outputs": [],
   "source": [
    "import sys\n",
    "import numpy as np\n",
    "import cv2\n",
    "\n",
    "\n",
    "# 비디오 파일 열기\n",
    "cap = cv2.VideoCapture('PETS2000.avi')\n",
    "\n",
    "if not cap.isOpened():\n",
    "    print('Video open failed!')\n",
    "    sys.exit()"
   ]
  },
  {
   "cell_type": "code",
   "execution_count": 11,
   "metadata": {},
   "outputs": [],
   "source": [
    "# 배경 차분 알고리즘 객체 생성\n",
    "\n",
    "#KNN 사용\n",
    "bs = cv2.createBackgroundSubtractorKNN()\n",
    "didfodidfod\n",
    "#MOG2 사용\n",
    "#bs = cv2.createBackgroundSubtractorMOG2()\n",
    "\n",
    "bs.setDetectShadows(False)  # 그림자 추출 false\n"
   ]
  },
  {
   "cell_type": "code",
   "execution_count": 12,
   "metadata": {},
   "outputs": [],
   "source": [
    "\n",
    "# 비디오 매 프레임 처리\n",
    "while True:\n",
    "    ret, frame = cap.read()\n",
    "\n",
    "    if not ret:\n",
    "        break\n",
    "\n",
    "    gray = cv2.cvtColor(frame, cv2.COLOR_BGR2GRAY)\n",
    "    \n",
    "    fgmask = bs.apply(gray) # 전경 모델 (출력하고 싶은 모델)\n",
    "    back = bs.getBackgroundImage()  # 백그라운드\n",
    "    \n",
    "\n",
    "\n",
    "    # 레이블링을 이용하여 바운딩 박스 표시\n",
    "    cnt, _, stats, _ = cv2.connectedComponentsWithStats(fgmask)\n",
    "\n",
    "    for i in range(1, cnt):\n",
    "        x, y, w, h, s = stats[i]\n",
    "\n",
    "        if s < 80:\n",
    "            continue\n",
    "\n",
    "        cv2.rectangle(frame, (x, y, w, h), (0, 0, 255), 2)\n",
    "\n",
    "    cv2.imshow('frame', frame)\n",
    "    cv2.imshow('back', back)\n",
    "    cv2.imshow('fgmask', fgmask)\n",
    "\n",
    "    if cv2.waitKey(20) == 27:\n",
    "        break\n",
    "cap.release()\n",
    "cv2.destroyAllWindows()\n"
   ]
  }
 ],
 "metadata": {
  "interpreter": {
   "hash": "d818019e9fc9fae7cdf8a445f715940dfee061aeca3da48d1e5a5f322c2f3bbd"
  },
  "kernelspec": {
   "display_name": "Python 3.9.13 64-bit (windows store)",
   "language": "python",
   "name": "python3"
  },
  "language_info": {
   "codemirror_mode": {
    "name": "ipython",
    "version": 3
   },
   "file_extension": ".py",
   "mimetype": "text/x-python",
   "name": "python",
   "nbconvert_exporter": "python",
   "pygments_lexer": "ipython3",
   "version": "3.9.13"
  },
  "orig_nbformat": 4
 },
 "nbformat": 4,
 "nbformat_minor": 2
}
