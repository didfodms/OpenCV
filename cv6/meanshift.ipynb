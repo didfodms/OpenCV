{
 "cells": [
  {
   "cell_type": "code",
   "execution_count": 6,
   "metadata": {},
   "outputs": [],
   "source": [
    "import sys\n",
    "import numpy as np\n",
    "import cv2\n",
    "\n",
    "\n",
    "# 비디오 파일 열기\n",
    "cap = cv2.VideoCapture('shift.mp4')\n",
    "\n",
    "if not cap.isOpened():\n",
    "    print('Video open failed!')\n",
    "    sys.exit()"
   ]
  },
  {
   "cell_type": "code",
   "execution_count": 7,
   "metadata": {},
   "outputs": [],
   "source": [
    "# 초기 사각형 영역: (x, y, w, h)\n",
    "x, y, w, h = 500, 500, 100, 180\n",
    "rc = (x, y, w, h)\n",
    "\n",
    "ret, frame = cap.read()\n",
    "\n",
    "if not ret:\n",
    "    print('frame read failed!')\n",
    "    sys.exit()\n",
    "\n",
    "roi = frame[y:y+h, x:x+w]\n",
    "roi_hsv = cv2.cvtColor(roi, cv2.COLOR_BGR2HSV)"
   ]
  },
  {
   "cell_type": "code",
   "execution_count": 8,
   "metadata": {},
   "outputs": [],
   "source": [
    "# HS 히스토그램 계산\n",
    "channels = [0, 1]\n",
    "ranges = [0, 180, 0, 256]\n",
    "hist = cv2.calcHist([roi_hsv], channels, None, [90, 128], ranges)\n"
   ]
  },
  {
   "cell_type": "code",
   "execution_count": 9,
   "metadata": {},
   "outputs": [],
   "source": [
    "# Mean Shift 알고리즘 종료 기준\n",
    "term_crit = (cv2.TERM_CRITERIA_EPS | cv2.TERM_CRITERIA_COUNT, 10, 1)"
   ]
  },
  {
   "cell_type": "code",
   "execution_count": 10,
   "metadata": {},
   "outputs": [],
   "source": [
    "# 비디오 매 프레임 처리\n",
    "while True:\n",
    "    ret, frame = cap.read()\n",
    "\n",
    "    if not ret:\n",
    "        break\n",
    "\n",
    "    # HS 히스토그램에 대한 역투영\n",
    "    frame_hsv = cv2.cvtColor(frame, cv2.COLOR_BGR2HSV)\n",
    "    backproj = cv2.calcBackProject([frame_hsv], channels, hist, ranges, 1)\n",
    "\n",
    "    # Mean Shift\n",
    "    _, rc = cv2.meanShift(backproj, rc, term_crit) #역투영 영상, 영역결과, 알고리즘 종료 기준\n",
    "\n",
    "    # 추적 결과 화면 출력\n",
    "    cv2.rectangle(frame, rc, (0, 0, 255), 2)\n",
    "    cv2.imshow('frame', frame)\n",
    "    cv2.imshow('hist', hist) #hs 히스토그램\n",
    "    cv2.imshow('backproj', backproj) # 역투영\n",
    "\n",
    "\n",
    "    if cv2.waitKey(60) == 27:\n",
    "        break\n",
    "\n",
    "cap.release()\n",
    "cv2.destroyAllWindows()"
   ]
  }
 ],
 "metadata": {
  "interpreter": {
   "hash": "d818019e9fc9fae7cdf8a445f715940dfee061aeca3da48d1e5a5f322c2f3bbd"
  },
  "kernelspec": {
   "display_name": "Python 3.9.13 64-bit (windows store)",
   "language": "python",
   "name": "python3"
  },
  "language_info": {
   "codemirror_mode": {
    "name": "ipython",
    "version": 3
   },
   "file_extension": ".py",
   "mimetype": "text/x-python",
   "name": "python",
   "nbconvert_exporter": "python",
   "pygments_lexer": "ipython3",
   "version": "3.9.13"
  },
  "orig_nbformat": 4
 },
 "nbformat": 4,
 "nbformat_minor": 2
}
