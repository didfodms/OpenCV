{
 "cells": [
  {
   "cell_type": "code",
   "execution_count": 1,
   "metadata": {},
   "outputs": [],
   "source": [
    "import sys\n",
    "import numpy as np\n",
    "import cv2"
   ]
  },
  {
   "cell_type": "code",
   "execution_count": 2,
   "metadata": {},
   "outputs": [],
   "source": [
    "src = cv2.imread('circuit.bmp', cv2.IMREAD_GRAYSCALE)\n",
    "templ = cv2.imread('crystal.bmp', cv2.IMREAD_GRAYSCALE)\n",
    "\n",
    "if src is None or templ is None:\n",
    "    print('Image load failed!')\n",
    "    sys.exit()"
   ]
  },
  {
   "cell_type": "code",
   "execution_count": 3,
   "metadata": {},
   "outputs": [],
   "source": [
    "# 입력 영상 밝기 50증가, 가우시안 잡음(sigma=10) 추가\n",
    "noise = np.zeros(src.shape, np.int32)\n",
    "cv2.randn(noise, 50, 10) \n",
    "src = cv2.add(src, noise, dtype=cv2.CV_8UC3)"
   ]
  },
  {
   "cell_type": "code",
   "execution_count": 5,
   "metadata": {},
   "outputs": [
    {
     "name": "stdout",
     "output_type": "stream",
     "text": [
      "0.9796600341796875\n",
      "(568, 320)\n"
     ]
    }
   ],
   "source": [
    "res = cv2.matchTemplate(src, templ, cv2.TM_CCOEFF_NORMED)   #-1~1\n",
    "res_norm = cv2.normalize(res, None, 0, 255, cv2.NORM_MINMAX, cv2.CV_8U)\n",
    "\n",
    "_, maxv, _, maxloc = cv2.minMaxLoc(res)\n",
    "print(maxv)\n",
    "print(maxloc)"
   ]
  },
  {
   "cell_type": "code",
   "execution_count": 6,
   "metadata": {},
   "outputs": [
    {
     "data": {
      "text/plain": [
       "array([[[ 96,  96,  96],\n",
       "        [ 97,  97,  97],\n",
       "        [ 85,  85,  85],\n",
       "        ...,\n",
       "        [111, 111, 111],\n",
       "        [116, 116, 116],\n",
       "        [126, 126, 126]],\n",
       "\n",
       "       [[ 99,  99,  99],\n",
       "        [ 94,  94,  94],\n",
       "        [103, 103, 103],\n",
       "        ...,\n",
       "        [196, 196, 196],\n",
       "        [190, 190, 190],\n",
       "        [199, 199, 199]],\n",
       "\n",
       "       [[100, 100, 100],\n",
       "        [ 96,  96,  96],\n",
       "        [ 98,  98,  98],\n",
       "        ...,\n",
       "        [215, 215, 215],\n",
       "        [228, 228, 228],\n",
       "        [212, 212, 212]],\n",
       "\n",
       "       ...,\n",
       "\n",
       "       [[101, 101, 101],\n",
       "        [101, 101, 101],\n",
       "        [ 98,  98,  98],\n",
       "        ...,\n",
       "        [209, 209, 209],\n",
       "        [191, 191, 191],\n",
       "        [168, 168, 168]],\n",
       "\n",
       "       [[119, 119, 119],\n",
       "        [115, 115, 115],\n",
       "        [108, 108, 108],\n",
       "        ...,\n",
       "        [255, 255, 255],\n",
       "        [233, 233, 233],\n",
       "        [142, 142, 142]],\n",
       "\n",
       "       [[117, 117, 117],\n",
       "        [115, 115, 115],\n",
       "        [101, 101, 101],\n",
       "        ...,\n",
       "        [182, 182, 182],\n",
       "        [140, 140, 140],\n",
       "        [139, 139, 139]]], dtype=uint8)"
      ]
     },
     "execution_count": 6,
     "metadata": {},
     "output_type": "execute_result"
    }
   ],
   "source": [
    "th, tw = templ.shape[:2]\n",
    "dst = cv2.cvtColor(src, cv2.COLOR_GRAY2BGR)\n",
    "cv2.rectangle(dst, maxloc, (maxloc[0]+tw, maxloc[1]+th), (0, 0, 255), 2)"
   ]
  },
  {
   "cell_type": "code",
   "execution_count": 7,
   "metadata": {},
   "outputs": [],
   "source": [
    "# 결과 영상 화면 출력\n",
    "cv2.imshow('res_norm', res_norm)\n",
    "cv2.imshow('dst', dst)\n",
    "cv2.waitKey()\n",
    "cv2.destroyAllWindows()"
   ]
  }
 ],
 "metadata": {
  "interpreter": {
   "hash": "d818019e9fc9fae7cdf8a445f715940dfee061aeca3da48d1e5a5f322c2f3bbd"
  },
  "kernelspec": {
   "display_name": "Python 3.9.12 64-bit (windows store)",
   "language": "python",
   "name": "python3"
  },
  "language_info": {
   "codemirror_mode": {
    "name": "ipython",
    "version": 3
   },
   "file_extension": ".py",
   "mimetype": "text/x-python",
   "name": "python",
   "nbconvert_exporter": "python",
   "pygments_lexer": "ipython3",
   "version": "3.9.12"
  },
  "orig_nbformat": 4
 },
 "nbformat": 4,
 "nbformat_minor": 2
}
