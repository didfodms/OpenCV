{
 "cells": [
  {
   "cell_type": "code",
   "execution_count": 1,
   "metadata": {},
   "outputs": [],
   "source": [
    "import sys\n",
    "import numpy as np\n",
    "import cv2\n"
   ]
  },
  {
   "cell_type": "markdown",
   "metadata": {},
   "source": [
    "### 허프 변환 : 직선 검출\n",
    "---\n",
    "+ 허프 변환 직선 검출\n",
    "- 2차원 좌표에서 직선의 방정식을 파라미터 공간으로 변환하여 직선을 찾는 알고리즘"
   ]
  },
  {
   "cell_type": "code",
   "execution_count": 2,
   "metadata": {},
   "outputs": [],
   "source": [
    "src = cv2.imread('house.jpg', cv2.IMREAD_GRAYSCALE)\n",
    "\n",
    "if src is None:\n",
    "    print('Image load failed!')\n",
    "    sys.exit()\n",
    "\n",
    "edges = cv2.Canny(src, 50, 150)"
   ]
  },
  {
   "cell_type": "code",
   "execution_count": 4,
   "metadata": {},
   "outputs": [],
   "source": [
    "lines = cv2.HoughLinesP(edges, 1, np.pi/180, 100, minLineLength=50, maxLineGap=3)\n",
    "\n",
    "dst = cv2.cvtColor(edges, cv2.COLOR_GRAY2BGR)"
   ]
  },
  {
   "cell_type": "code",
   "execution_count": 5,
   "metadata": {},
   "outputs": [],
   "source": [
    "if lines is not None:\n",
    "    for i in range(lines.shape[0]):\n",
    "        pt1 = (lines[i][0][0], lines[i][0][1]) #시작점\n",
    "        pt2 = (lines[i][0][2], lines[i][0][3]) #끝점\n",
    "        cv2.line(dst, pt1, pt2, (0, 0, 255), 2) #pt1~pt2까지 빨간색 두께2로 선을 그려라         "
   ]
  },
  {
   "cell_type": "code",
   "execution_count": 6,
   "metadata": {},
   "outputs": [],
   "source": [
    "cv2.imshow('src', src)\n",
    "cv2.imshow('dst', dst)\n",
    "cv2.waitKey()\n",
    "cv2.destroyAllWindows()\n",
    "# 캐니 엣지 검출 -> 허프 변환 직선 검출 -> 이런걸 할 수 있다!!"
   ]
  }
 ],
 "metadata": {
  "interpreter": {
   "hash": "d818019e9fc9fae7cdf8a445f715940dfee061aeca3da48d1e5a5f322c2f3bbd"
  },
  "kernelspec": {
   "display_name": "Python 3.9.12 64-bit (windows store)",
   "language": "python",
   "name": "python3"
  },
  "language_info": {
   "codemirror_mode": {
    "name": "ipython",
    "version": 3
   },
   "file_extension": ".py",
   "mimetype": "text/x-python",
   "name": "python",
   "nbconvert_exporter": "python",
   "pygments_lexer": "ipython3",
   "version": "3.9.12"
  },
  "orig_nbformat": 4
 },
 "nbformat": 4,
 "nbformat_minor": 2
}
