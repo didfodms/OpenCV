{
 "cells": [
  {
   "cell_type": "code",
   "execution_count": 26,
   "metadata": {},
   "outputs": [],
   "source": [
    "import sys\n",
    "import cv2\n",
    "\n",
    "\n",
    "cap = cv2.VideoCapture(0)\n",
    "\n",
    "if not cap.isOpened():\n",
    "    print(\"Camera open failed!\")\n",
    "    sys.exit()"
   ]
  },
  {
   "cell_type": "code",
   "execution_count": 27,
   "metadata": {},
   "outputs": [],
   "source": [
    "w = round(cap.get(cv2.CAP_PROP_FRAME_WIDTH)) #원본 데이터의 가로\n",
    "h = round(cap.get(cv2.CAP_PROP_FRAME_HEIGHT))  #원본 데이터의 세로\n",
    "fps = cap.get(cv2.CAP_PROP_FPS) #기본 셋팅 프레임(30등 직접 넣어도됨)"
   ]
  },
  {
   "cell_type": "code",
   "execution_count": 28,
   "metadata": {},
   "outputs": [],
   "source": [
    "# fourcc는 알아두어야 합니다.\n",
    "# fourcc 종류 : DIVX, ...\n",
    "fourcc = cv2.VideoWriter_fourcc(*'DIVX')\n",
    "delay = round(1000/fps)"
   ]
  },
  {
   "cell_type": "code",
   "execution_count": 29,
   "metadata": {},
   "outputs": [],
   "source": [
    "# 마지막 인자 color : True, 흑백 : False\n",
    "out = cv2.VideoWriter('output.avi', fourcc, fps, (w, h), False)\n",
    "\n",
    "if not out.isOpened():\n",
    "    print('file open failed')\n",
    "    cap.release()\n",
    "    sys.exit()"
   ]
  },
  {
   "cell_type": "code",
   "execution_count": 30,
   "metadata": {},
   "outputs": [],
   "source": [
    "while True:\n",
    "    ret, frame = cap.read()\n",
    "    \n",
    "    if not ret:\n",
    "        break\n",
    "    # ~을 붙이면 반대 (0->1, 1->0)\n",
    "    # 색깔이 반전이 됨\n",
    "    inversed = ~frame\n",
    "    edge = cv2.Canny(frame, 50, 150)\n",
    "    cv2.imshow('edge', edge)\n",
    "    \n",
    "    out.write(edge)\n",
    "    cv2.imshow('frame', frame)\n",
    "    \n",
    "    if cv2.waitKey(delay) == 27:\n",
    "        break\n",
    "\n",
    "cap.release()\n",
    "out.release()\n",
    "cv2.destroyAllWindows()\n"
   ]
  }
 ],
 "metadata": {
  "interpreter": {
   "hash": "d818019e9fc9fae7cdf8a445f715940dfee061aeca3da48d1e5a5f322c2f3bbd"
  },
  "kernelspec": {
   "display_name": "Python 3.9.12 64-bit (windows store)",
   "language": "python",
   "name": "python3"
  },
  "language_info": {
   "codemirror_mode": {
    "name": "ipython",
    "version": 3
   },
   "file_extension": ".py",
   "mimetype": "text/x-python",
   "name": "python",
   "nbconvert_exporter": "python",
   "pygments_lexer": "ipython3",
   "version": "3.9.12"
  },
  "orig_nbformat": 4
 },
 "nbformat": 4,
 "nbformat_minor": 2
}
