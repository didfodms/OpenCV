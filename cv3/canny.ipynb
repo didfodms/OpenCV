{
 "cells": [
  {
   "cell_type": "code",
   "execution_count": 1,
   "metadata": {},
   "outputs": [],
   "source": [
    "import sys\n",
    "import numpy as np\n",
    "import cv2"
   ]
  },
  {
   "cell_type": "markdown",
   "metadata": {},
   "source": [
    "### 캐니 엣지 검출\n",
    "---\n",
    "\n",
    "+ 캐니 엣지 검출 단계\n",
    "1. 가우시안 필터링 (잡음 제거 목적, 요즘은 그래디언트 계산에서 처리 가능)\n",
    "2. 그래디언트 계산 (주로 소벨 마스크 사용)\n",
    "3. 최대비 억제 (양옆의 이웃보다 자신이 크면 엣지로 판별)\n",
    "4. 히스테리시스 엣지 트래킹 (강한엣지, 약한엣지)"
   ]
  },
  {
   "cell_type": "code",
   "execution_count": 2,
   "metadata": {},
   "outputs": [],
   "source": [
    "src = cv2.imread('building.jpg', cv2.IMREAD_GRAYSCALE)\n",
    "src2 = cv2.imread('building.jpg')\n",
    "\n",
    "if src is None:\n",
    "    print('Image load failed!')\n",
    "    sys.exit()"
   ]
  },
  {
   "cell_type": "code",
   "execution_count": 6,
   "metadata": {},
   "outputs": [],
   "source": [
    "dst = cv2.Canny(src, 150, 200)\n",
    "cv2.imshow('src', src)\n",
    "cv2.imshow('src2', src2)\n",
    "cv2.imshow('dst', dst)\n",
    "\n",
    "cv2.waitKey()\n",
    "\n",
    "cv2.destroyAllWindows()\n"
   ]
  }
 ],
 "metadata": {
  "interpreter": {
   "hash": "d818019e9fc9fae7cdf8a445f715940dfee061aeca3da48d1e5a5f322c2f3bbd"
  },
  "kernelspec": {
   "display_name": "Python 3.9.12 64-bit (windows store)",
   "language": "python",
   "name": "python3"
  },
  "language_info": {
   "codemirror_mode": {
    "name": "ipython",
    "version": 3
   },
   "file_extension": ".py",
   "mimetype": "text/x-python",
   "name": "python",
   "nbconvert_exporter": "python",
   "pygments_lexer": "ipython3",
   "version": "3.9.12"
  },
  "orig_nbformat": 4
 },
 "nbformat": 4,
 "nbformat_minor": 2
}
