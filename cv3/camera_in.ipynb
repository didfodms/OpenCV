{
 "cells": [
  {
   "cell_type": "code",
   "execution_count": 5,
   "metadata": {},
   "outputs": [],
   "source": [
    "import sys\n",
    "import cv2"
   ]
  },
  {
   "cell_type": "code",
   "execution_count": 14,
   "metadata": {},
   "outputs": [],
   "source": [
    "# 카메라 열기\n",
    "# 연결되어 있는 0번째 카메라 오픈\n",
    "cap = cv2.VideoCapture('bonobono.mp4')\n",
    "\n",
    "if not cap.isOpened():\n",
    "    print(\"Camera open failed!\")\n",
    "    sys.exit()"
   ]
  },
  {
   "cell_type": "code",
   "execution_count": 17,
   "metadata": {},
   "outputs": [
    {
     "name": "stdout",
     "output_type": "stream",
     "text": [
      "1280 720\n",
      "False False\n"
     ]
    }
   ],
   "source": [
    "# 동영상의 width, height 알아보기\n",
    "w = int(cap.get(cv2.CAP_PROP_FRAME_WIDTH))\n",
    "h = int(cap.get(cv2.CAP_PROP_FRAME_HEIGHT))\n",
    "print(w, h)\n",
    "\n",
    "# 동영상의 width, height 조정하기 (조정할 수 있다만 알아두세요)\n",
    "w2 = cap.set(cv2.CAP_PROP_FRAME_WIDTH, 1920)\n",
    "h2 = cap.set(cv2.CAP_PROP_FRAME_HEIGHT, 1080)\n",
    "print(w2, h2)"
   ]
  },
  {
   "cell_type": "code",
   "execution_count": 9,
   "metadata": {},
   "outputs": [],
   "source": [
    "while True:\n",
    "    ret, frame = cap.read()\n",
    "    if not ret:\n",
    "        break\n",
    "    # Canny = edge를 검출해주는 클래스 \n",
    "    edge = cv2.Canny(frame, 50, 150)\n",
    "    cv2.imshow('edge', edge)\n",
    "    \n",
    "    cv2.imshow('frame', frame)\n",
    "    #20ms로 계속 받아오면서 27(키보드 아스키코드 ESC)이면 닫겠다\n",
    "    if cv2.waitKey(20) == 27: \n",
    "        break\n",
    "\n",
    "cap.release()\n",
    "cv2.destroyAllWindows()\n",
    "\n"
   ]
  }
 ],
 "metadata": {
  "interpreter": {
   "hash": "d818019e9fc9fae7cdf8a445f715940dfee061aeca3da48d1e5a5f322c2f3bbd"
  },
  "kernelspec": {
   "display_name": "Python 3.9.12 64-bit (windows store)",
   "language": "python",
   "name": "python3"
  },
  "language_info": {
   "codemirror_mode": {
    "name": "ipython",
    "version": 3
   },
   "file_extension": ".py",
   "mimetype": "text/x-python",
   "name": "python",
   "nbconvert_exporter": "python",
   "pygments_lexer": "ipython3",
   "version": "3.9.12"
  },
  "orig_nbformat": 4
 },
 "nbformat": 4,
 "nbformat_minor": 2
}
