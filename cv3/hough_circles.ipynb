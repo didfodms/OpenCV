{
 "cells": [
  {
   "cell_type": "code",
   "execution_count": 8,
   "metadata": {},
   "outputs": [],
   "source": [
    "import sys\n",
    "import numpy as np\n",
    "import cv2\n",
    "\n",
    "\n",
    "# 입력 이미지 불러오기\n",
    "src = cv2.imread('dial.jpg')\n",
    "\n",
    "if src is None:\n",
    "    print('Image open failed!')\n",
    "    sys.exit()"
   ]
  },
  {
   "cell_type": "code",
   "execution_count": 9,
   "metadata": {},
   "outputs": [],
   "source": [
    "gray = cv2.cvtColor(src, cv2.COLOR_BGR2GRAY)\n",
    "blr = cv2.GaussianBlur(gray, (0, 0), 1.0) #디테일을 죽여주어야 성능이 좋아짐"
   ]
  },
  {
   "cell_type": "code",
   "execution_count": 10,
   "metadata": {},
   "outputs": [],
   "source": [
    "def on_trackbar(pos):\n",
    "    rmin = cv2.getTrackbarPos('minRadius', 'img')\n",
    "    rmax = cv2.getTrackbarPos('maxRadius', 'img')\n",
    "    th = cv2.getTrackbarPos('threshold', 'img')\n",
    "\n",
    "    circles = cv2.HoughCircles(blr, cv2.HOUGH_GRADIENT, 1, 50,param1=120, param2=th, minRadius=rmin, maxRadius=rmax)\n",
    "    #이미지, 메소드, 축적 크기 비율, 중심점 최소 거리, 엣지 임계값, 원검출 임계값, 원 최소 반지름, 원 최대 반지름\n",
    "    dst = src.copy()\n",
    "    if circles is not None:\n",
    "        for i in range(circles.shape[1]):\n",
    "            cx, cy, radius = np.uint16(circles[0][i])\n",
    "            cv2.circle(dst, (cx, cy), radius, (0, 0, 255), 2, cv2.LINE_AA)\n",
    "\n",
    "    cv2.imshow('img', dst)"
   ]
  },
  {
   "cell_type": "code",
   "execution_count": 11,
   "metadata": {},
   "outputs": [
    {
     "ename": "error",
     "evalue": "OpenCV(4.1.0) C:\\projects\\opencv-python\\opencv\\modules\\imgproc\\src\\hough.cpp:1740: error: (-211:One of arguments' values is out of range) dp, min_dist, canny_threshold and acc_threshold must be all positive numbers in function 'cv::HoughCircles'\n",
     "output_type": "error",
     "traceback": [
      "\u001b[1;31m---------------------------------------------------------------------------\u001b[0m",
      "\u001b[1;31merror\u001b[0m                                     Traceback (most recent call last)",
      "\u001b[1;32m~\\AppData\\Local\\Temp\\ipykernel_8492\\738960319.py\u001b[0m in \u001b[0;36mon_trackbar\u001b[1;34m(pos)\u001b[0m\n\u001b[0;32m      4\u001b[0m     \u001b[0mth\u001b[0m \u001b[1;33m=\u001b[0m \u001b[0mcv2\u001b[0m\u001b[1;33m.\u001b[0m\u001b[0mgetTrackbarPos\u001b[0m\u001b[1;33m(\u001b[0m\u001b[1;34m'threshold'\u001b[0m\u001b[1;33m,\u001b[0m \u001b[1;34m'img'\u001b[0m\u001b[1;33m)\u001b[0m\u001b[1;33m\u001b[0m\u001b[1;33m\u001b[0m\u001b[0m\n\u001b[0;32m      5\u001b[0m \u001b[1;33m\u001b[0m\u001b[0m\n\u001b[1;32m----> 6\u001b[1;33m     \u001b[0mcircles\u001b[0m \u001b[1;33m=\u001b[0m \u001b[0mcv2\u001b[0m\u001b[1;33m.\u001b[0m\u001b[0mHoughCircles\u001b[0m\u001b[1;33m(\u001b[0m\u001b[0mblr\u001b[0m\u001b[1;33m,\u001b[0m \u001b[0mcv2\u001b[0m\u001b[1;33m.\u001b[0m\u001b[0mHOUGH_GRADIENT\u001b[0m\u001b[1;33m,\u001b[0m \u001b[1;36m1\u001b[0m\u001b[1;33m,\u001b[0m \u001b[1;36m50\u001b[0m\u001b[1;33m,\u001b[0m\u001b[0mparam1\u001b[0m\u001b[1;33m=\u001b[0m\u001b[1;36m120\u001b[0m\u001b[1;33m,\u001b[0m \u001b[0mparam2\u001b[0m\u001b[1;33m=\u001b[0m\u001b[0mth\u001b[0m\u001b[1;33m,\u001b[0m \u001b[0mminRadius\u001b[0m\u001b[1;33m=\u001b[0m\u001b[0mrmin\u001b[0m\u001b[1;33m,\u001b[0m \u001b[0mmaxRadius\u001b[0m\u001b[1;33m=\u001b[0m\u001b[0mrmax\u001b[0m\u001b[1;33m)\u001b[0m\u001b[1;33m\u001b[0m\u001b[1;33m\u001b[0m\u001b[0m\n\u001b[0m\u001b[0;32m      7\u001b[0m     \u001b[1;31m#이미지, 메소드, 축적 크기 비율, 중심점 최소 거리, 엣지 임계값, 원검출 임계값, 원 최소 반지름, 원 최대 반지름\u001b[0m\u001b[1;33m\u001b[0m\u001b[1;33m\u001b[0m\u001b[1;33m\u001b[0m\u001b[0m\n\u001b[0;32m      8\u001b[0m     \u001b[0mdst\u001b[0m \u001b[1;33m=\u001b[0m \u001b[0msrc\u001b[0m\u001b[1;33m.\u001b[0m\u001b[0mcopy\u001b[0m\u001b[1;33m(\u001b[0m\u001b[1;33m)\u001b[0m\u001b[1;33m\u001b[0m\u001b[1;33m\u001b[0m\u001b[0m\n",
      "\u001b[1;31merror\u001b[0m: OpenCV(4.1.0) C:\\projects\\opencv-python\\opencv\\modules\\imgproc\\src\\hough.cpp:1740: error: (-211:One of arguments' values is out of range) dp, min_dist, canny_threshold and acc_threshold must be all positive numbers in function 'cv::HoughCircles'\n"
     ]
    },
    {
     "ename": "error",
     "evalue": "OpenCV(4.1.0) C:\\projects\\opencv-python\\opencv\\modules\\imgproc\\src\\hough.cpp:1740: error: (-211:One of arguments' values is out of range) dp, min_dist, canny_threshold and acc_threshold must be all positive numbers in function 'cv::HoughCircles'\n",
     "output_type": "error",
     "traceback": [
      "\u001b[1;31m---------------------------------------------------------------------------\u001b[0m",
      "\u001b[1;31merror\u001b[0m                                     Traceback (most recent call last)",
      "\u001b[1;32m~\\AppData\\Local\\Temp\\ipykernel_8492\\738960319.py\u001b[0m in \u001b[0;36mon_trackbar\u001b[1;34m(pos)\u001b[0m\n\u001b[0;32m      4\u001b[0m     \u001b[0mth\u001b[0m \u001b[1;33m=\u001b[0m \u001b[0mcv2\u001b[0m\u001b[1;33m.\u001b[0m\u001b[0mgetTrackbarPos\u001b[0m\u001b[1;33m(\u001b[0m\u001b[1;34m'threshold'\u001b[0m\u001b[1;33m,\u001b[0m \u001b[1;34m'img'\u001b[0m\u001b[1;33m)\u001b[0m\u001b[1;33m\u001b[0m\u001b[1;33m\u001b[0m\u001b[0m\n\u001b[0;32m      5\u001b[0m \u001b[1;33m\u001b[0m\u001b[0m\n\u001b[1;32m----> 6\u001b[1;33m     \u001b[0mcircles\u001b[0m \u001b[1;33m=\u001b[0m \u001b[0mcv2\u001b[0m\u001b[1;33m.\u001b[0m\u001b[0mHoughCircles\u001b[0m\u001b[1;33m(\u001b[0m\u001b[0mblr\u001b[0m\u001b[1;33m,\u001b[0m \u001b[0mcv2\u001b[0m\u001b[1;33m.\u001b[0m\u001b[0mHOUGH_GRADIENT\u001b[0m\u001b[1;33m,\u001b[0m \u001b[1;36m1\u001b[0m\u001b[1;33m,\u001b[0m \u001b[1;36m50\u001b[0m\u001b[1;33m,\u001b[0m\u001b[0mparam1\u001b[0m\u001b[1;33m=\u001b[0m\u001b[1;36m120\u001b[0m\u001b[1;33m,\u001b[0m \u001b[0mparam2\u001b[0m\u001b[1;33m=\u001b[0m\u001b[0mth\u001b[0m\u001b[1;33m,\u001b[0m \u001b[0mminRadius\u001b[0m\u001b[1;33m=\u001b[0m\u001b[0mrmin\u001b[0m\u001b[1;33m,\u001b[0m \u001b[0mmaxRadius\u001b[0m\u001b[1;33m=\u001b[0m\u001b[0mrmax\u001b[0m\u001b[1;33m)\u001b[0m\u001b[1;33m\u001b[0m\u001b[1;33m\u001b[0m\u001b[0m\n\u001b[0m\u001b[0;32m      7\u001b[0m     \u001b[1;31m#이미지, 메소드, 축적 크기 비율, 중심점 최소 거리, 엣지 임계값, 원검출 임계값, 원 최소 반지름, 원 최대 반지름\u001b[0m\u001b[1;33m\u001b[0m\u001b[1;33m\u001b[0m\u001b[1;33m\u001b[0m\u001b[0m\n\u001b[0;32m      8\u001b[0m     \u001b[0mdst\u001b[0m \u001b[1;33m=\u001b[0m \u001b[0msrc\u001b[0m\u001b[1;33m.\u001b[0m\u001b[0mcopy\u001b[0m\u001b[1;33m(\u001b[0m\u001b[1;33m)\u001b[0m\u001b[1;33m\u001b[0m\u001b[1;33m\u001b[0m\u001b[0m\n",
      "\u001b[1;31merror\u001b[0m: OpenCV(4.1.0) C:\\projects\\opencv-python\\opencv\\modules\\imgproc\\src\\hough.cpp:1740: error: (-211:One of arguments' values is out of range) dp, min_dist, canny_threshold and acc_threshold must be all positive numbers in function 'cv::HoughCircles'\n"
     ]
    }
   ],
   "source": [
    "# 트랙바 생성\n",
    "cv2.imshow('img', src)\n",
    "cv2.createTrackbar('minRadius', 'img', 0, 100, on_trackbar)\n",
    "cv2.createTrackbar('maxRadius', 'img', 0, 150, on_trackbar)\n",
    "cv2.createTrackbar('threshold', 'img', 0, 100, on_trackbar)\n",
    "cv2.setTrackbarPos('minRadius', 'img', 10)\n",
    "cv2.setTrackbarPos('maxRadius', 'img', 80)\n",
    "cv2.setTrackbarPos('threshold', 'img', 40)\n",
    "cv2.waitKey()\n",
    "\n",
    "cv2.destroyAllWindows()"
   ]
  },
  {
   "cell_type": "code",
   "execution_count": null,
   "metadata": {},
   "outputs": [],
   "source": []
  }
 ],
 "metadata": {
  "interpreter": {
   "hash": "755332050e58d4d507d287117008e292404769ec302d070436f9dd1daeb9cf41"
  },
  "kernelspec": {
   "display_name": "Python 3.7.7 64-bit",
   "language": "python",
   "name": "python3"
  },
  "language_info": {
   "codemirror_mode": {
    "name": "ipython",
    "version": 3
   },
   "file_extension": ".py",
   "mimetype": "text/x-python",
   "name": "python",
   "nbconvert_exporter": "python",
   "pygments_lexer": "ipython3",
   "version": "3.7.7"
  },
  "orig_nbformat": 4
 },
 "nbformat": 4,
 "nbformat_minor": 2
}
